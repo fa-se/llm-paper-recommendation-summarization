{
 "cells": [
  {
   "cell_type": "code",
   "id": "initial_id",
   "metadata": {
    "ExecuteTime": {
     "end_time": "2024-08-29T21:47:35.666745Z",
     "start_time": "2024-08-29T21:47:35.661036Z"
    }
   },
   "source": [
    "import os\n",
    "import sys\n",
    "# ensure that the project path is in the python path\n",
    "project_path = os.path.abspath(os.getcwd())\n",
    "if project_path not in sys.path:\n",
    "    sys.path.append(project_path)\n",
    "\n",
    "from dotenv import load_dotenv\n",
    "# load environment variables with db connection info and api keys\n",
    "load_dotenv(os.path.join(project_path, '.env'), override=True)"
   ],
   "outputs": [
    {
     "data": {
      "text/plain": [
       "True"
      ]
     },
     "execution_count": 1,
     "metadata": {},
     "output_type": "execute_result"
    }
   ],
   "execution_count": 1
  },
  {
   "cell_type": "code",
   "id": "a53058ed2529e078",
   "metadata": {
    "ExecuteTime": {
     "end_time": "2024-08-29T21:47:36.239677Z",
     "start_time": "2024-08-29T21:47:35.702791Z"
    }
   },
   "source": [
    "from core import retrieval, summarization, publication_repository\n",
    "# start with a clean publication table\n",
    "publication_repository.truncate()"
   ],
   "outputs": [],
   "execution_count": 2
  },
  {
   "cell_type": "code",
   "id": "f71f614fda34da59",
   "metadata": {
    "jupyter": {
     "is_executing": true
    },
    "ExecuteTime": {
     "start_time": "2024-08-29T21:47:36.304989Z"
    }
   },
   "source": [
    "from datetime import datetime\n",
    "\n",
    "query = \"i am working on a system aiming to assist researchers in the discovery of new research in their fields.\"\n",
    "\" it encompasses the whole retrieval process, starting at retrieval from an academic database,\"\n",
    "\" followed by hybrid ranking (bm25/embedding similarity) and llm-based reranking stages.\"\n",
    "\" finally, the retrieved publications are summarized by an llm. the summaries are tailored to the user's research interests.\"\n",
    "\" thus, i am mainly interested in the applications of LLMs in information retrieval and the generation of summaries.\"\n",
    "start_date = datetime(2024, 1, 1)\n",
    "topics, publications_retrieved_for_topics = retrieval.initialize_for_query(query=query, start_date=start_date, limit=5000, num_topics=10)\n",
    "\n",
    "works = retrieval.get_relevant_works_for_query(query=query, n=5, start_date=start_date)"
   ],
   "outputs": [
    {
     "name": "stdout",
     "output_type": "stream",
     "text": [
      "Getting top 5 publications using SearchType.HYBRID search. Reranking enabled: True\n",
      "Reranking to identify top 5 among 50 publications.\n"
     ]
    }
   ],
   "execution_count": null
  },
  {
   "cell_type": "code",
   "execution_count": null,
   "id": "46ace150-0ee4-4d98-940a-113d4447bc64",
   "metadata": {},
   "outputs": [],
   "source": [
    "len(publications_retrieved_for_topics)"
   ]
  },
  {
   "cell_type": "code",
   "execution_count": null,
   "id": "686fa577-abf6-4731-af87-78f9f649aadd",
   "metadata": {},
   "outputs": [],
   "source": [
    "topics"
   ]
  },
  {
   "cell_type": "code",
   "execution_count": null,
   "id": "6be8afb1346bc061",
   "metadata": {
    "ExecuteTime": {
     "end_time": "2024-08-26T23:09:39.275574Z",
     "start_time": "2024-08-26T23:09:39.273113Z"
    }
   },
   "outputs": [],
   "source": [
    "for work in works[:5]:\n",
    "    print(work)"
   ]
  },
  {
   "cell_type": "code",
   "execution_count": null,
   "id": "70b2263aaa36ebe3",
   "metadata": {
    "ExecuteTime": {
     "end_time": "2024-08-26T23:09:39.394956Z",
     "start_time": "2024-08-26T23:09:39.392890Z"
    }
   },
   "outputs": [],
   "source": [
    "topics"
   ]
  },
  {
   "cell_type": "code",
   "execution_count": null,
   "id": "72ec9dc8d3403b81",
   "metadata": {
    "ExecuteTime": {
     "end_time": "2024-08-26T23:09:56.778291Z",
     "start_time": "2024-08-26T23:09:39.508060Z"
    }
   },
   "outputs": [],
   "source": [
    "summaries = summarization.summarize_works_for_query(query, works[:3])"
   ]
  },
  {
   "cell_type": "code",
   "execution_count": null,
   "id": "f38e9631ce84d0a",
   "metadata": {
    "ExecuteTime": {
     "end_time": "2024-08-26T23:09:56.821966Z",
     "start_time": "2024-08-26T23:09:56.820383Z"
    }
   },
   "outputs": [],
   "source": [
    "for summarized_work in summaries:\n",
    "    print(summarized_work)"
   ]
  }
 ],
 "metadata": {
  "kernelspec": {
   "display_name": "Python 3 (ipykernel)",
   "language": "python",
   "name": "python3"
  },
  "language_info": {
   "codemirror_mode": {
    "name": "ipython",
    "version": 3
   },
   "file_extension": ".py",
   "mimetype": "text/x-python",
   "name": "python",
   "nbconvert_exporter": "python",
   "pygments_lexer": "ipython3",
   "version": "3.12.5"
  }
 },
 "nbformat": 4,
 "nbformat_minor": 5
}
