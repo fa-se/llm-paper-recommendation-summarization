{
 "cells": [
  {
   "cell_type": "code",
   "id": "f71f614fda34da59",
   "metadata": {
    "ExecuteTime": {
     "end_time": "2024-11-11T10:35:12.448138Z",
     "start_time": "2024-11-11T10:34:00.036021Z"
    }
   },
   "source": [
    "from core import retrieval, summarization\n",
    "from datetime import datetime\n",
    "\n",
    "query = \"i am interested in publications on applications of LLMs and RAG within the context of literature review and research discovery\"\n",
    "start_date = datetime(2024, 1, 1)\n",
    "\n",
    "topics, publications_retrieved_for_topics = retrieval.initialize_for_query(query=query, start_date=start_date, limit=5000, num_topics=5) # initial retrieval\n",
    "works = retrieval.get_relevant_works_for_query(query=query, n=5, start_date=start_date) # ranking and reranking"
   ],
   "outputs": [
    {
     "name": "stdout",
     "output_type": "stream",
     "text": [
      "Getting top 5 publications using SearchType.HYBRID search. Reranking enabled: True\n",
      "Reranking to identify top 5 among 50 publications.\n",
      "Total compare: 53, Total prompt tokens: 44237, Total completion tokens: 159\n"
     ]
    }
   ],
   "execution_count": 1
  },
  {
   "cell_type": "code",
   "id": "6be8afb1346bc061",
   "metadata": {
    "ExecuteTime": {
     "end_time": "2024-11-11T10:35:12.492955Z",
     "start_time": "2024-11-11T10:35:12.491001Z"
    }
   },
   "source": [
    "for work in works[:5]:\n",
    "    print(work)"
   ],
   "outputs": [
    {
     "name": "stdout",
     "output_type": "stream",
     "text": [
      "'Comparative Analysis of Automatic Literature Review Using Mistral Large Language Model and Human Reviewers' by [Hsiao-Ching Tsai, Yueh-Fen Huang, Chih-Wei Kuo] (2024-03) | # cited by: 11 | https://openalex.org/W4392593764\n",
      "'LitLLM: A Toolkit for Scientific Literature Review' by [Shubham Agarwal, Issam Laradji, Laurent Charlin] (2024-02) | # cited by: 2 | https://openalex.org/W4391591686\n",
      "'vitaLITy 2: Reviewing Academic Literature Using Large Language Models' by [Hongye An, Arpit Narechania, Emily Wall] (2024-08) | # cited by: 0 | https://openalex.org/W4402701329\n",
      "'The emergence of Large Language Models (LLM) as a tool in literature\n",
      "  reviews: an LLM automated systematic review' by [Dmitry Scherbakov, Nina Hubig, Vinita Jansari] (2024-09) | # cited by: 0 | https://openalex.org/W4403593716\n",
      "'LLAssist: Simple Tools for Automating Literature Review Using Large\n",
      "  Language Models' by [Christoforus Yoga Haryanto] (2024-07) | # cited by: 0 | https://openalex.org/W4402855429\n"
     ]
    }
   ],
   "execution_count": 2
  },
  {
   "cell_type": "code",
   "id": "72ec9dc8d3403b81",
   "metadata": {
    "ExecuteTime": {
     "end_time": "2024-11-11T10:35:18.751660Z",
     "start_time": "2024-11-11T10:35:12.591721Z"
    }
   },
   "source": "summaries = summarization.summarize_works_for_query(query, works[:1]) # summarization",
   "outputs": [],
   "execution_count": 3
  },
  {
   "cell_type": "code",
   "id": "f38e9631ce84d0a",
   "metadata": {
    "ExecuteTime": {
     "end_time": "2024-11-11T10:35:18.757485Z",
     "start_time": "2024-11-11T10:35:18.755609Z"
    }
   },
   "source": [
    "print(summaries[0])"
   ],
   "outputs": [
    {
     "name": "stdout",
     "output_type": "stream",
     "text": [
      "Comparative Analysis of Automatic Literature Review Using Mistral Large Language Model and Human Reviewers\n",
      "Summary: The publication investigates the Mistral LLM with RAG in automating literature reviews, finding that it excels in efficiency and scalability compared to human efforts but lacks some analytical depth. It suggests a hybrid AI-human approach to improve literature review processes. This is highly relevant to the user's interests in applications of LLMs and RAG in research discovery, showcasing significant potential for these technologies in academic research.\n"
     ]
    }
   ],
   "execution_count": 4
  }
 ],
 "metadata": {
  "kernelspec": {
   "display_name": "Python 3 (ipykernel)",
   "language": "python",
   "name": "python3"
  },
  "language_info": {
   "codemirror_mode": {
    "name": "ipython",
    "version": 3
   },
   "file_extension": ".py",
   "mimetype": "text/x-python",
   "name": "python",
   "nbconvert_exporter": "python",
   "pygments_lexer": "ipython3",
   "version": "3.12.7"
  }
 },
 "nbformat": 4,
 "nbformat_minor": 5
}
