{
 "cells": [
  {
   "cell_type": "code",
   "execution_count": 12,
   "id": "f71f614fda34da59",
   "metadata": {
    "ExecuteTime": {
     "end_time": "2024-10-23T08:38:13.510527Z",
     "start_time": "2024-10-23T08:35:33.755867Z"
    }
   },
   "outputs": [
    {
     "name": "stdout",
     "output_type": "stream",
     "text": [
      "Getting top 5 publications using SearchType.HYBRID search. Reranking enabled: True\n",
      "Reranking to identify top 5 among 50 publications.\n",
      "Total compare: 56, Total prompt tokens: 41345, Total completion tokens: 168\n"
     ]
    }
   ],
   "source": [
    "from core import retrieval, summarization\n",
    "from datetime import datetime\n",
    "\n",
    "query = \"The topic of my research is cooperative localization. Thereby, vehicles that are in vicinity exchange \"\n",
    "\"their localization data and can improve the position accuracy. \"\n",
    "\"Data exchanged includes GNSS raw data and localization data from sensor positioning.\"\n",
    "start_date = datetime(2024, 1, 1)\n",
    "\n",
    "topics, publications_retrieved_for_topics = retrieval.initialize_for_query(query=query, start_date=start_date, limit=5000, num_topics=10) # initial retrieval\n",
    "works = retrieval.get_relevant_works_for_query(query=query, n=5, start_date=start_date) # ranking and reranking"
   ]
  },
  {
   "cell_type": "code",
   "execution_count": 13,
   "id": "6be8afb1346bc061",
   "metadata": {
    "ExecuteTime": {
     "end_time": "2024-10-23T08:55:38.442002Z",
     "start_time": "2024-10-23T08:55:38.439869Z"
    }
   },
   "outputs": [
    {
     "name": "stdout",
     "output_type": "stream",
     "text": [
      "'Distributed Invariant Kalman Filter for Cooperative Localization using\n",
      "  Matrix Lie Groups' by [Yizhi Zhou, Yufan Liu, Pengxiang Zhu] (2024-05) | # cited by: 0 | https://openalex.org/W4396786767\n",
      "'Cooperative Localization under Ionospheric Scintillation Events' by [Paulo R. P. Silva, Marcelo G. S. Bruno, Alison de Oliveira Moraes] (2024-05) | # cited by: 1 | https://openalex.org/W4396919797\n",
      "'Graph based Cooperation Strategies for Automated Vehicles in Mixed Traffic' by [Maximilian Flormann, Roman Henze] (2024-07) | # cited by: 0 | https://openalex.org/W4400264198\n",
      "'Enhanced Agricultural Vehicle Positioning through Ultra-Wideband-Assisted Global Navigation Satellite Systems and Bayesian Integration Techniques' by [Kaiting Xie, Zhaoguo Zhang, Shiliang Zhu] (2024-08) | # cited by: 0 | https://openalex.org/W4401707189\n",
      "'Accurate Cooperative Localization Utilizing LiDAR-equipped Roadside\n",
      "  Infrastructure for Autonomous Driving' by [Yuze Jiang, Ehsan Javanmardi, Manabu Tsukada] (2024-07) | # cited by: 0 | https://openalex.org/W4400611811\n"
     ]
    }
   ],
   "source": [
    "for work in works[:5]:\n",
    "    print(work)"
   ]
  },
  {
   "cell_type": "code",
   "execution_count": 14,
   "id": "72ec9dc8d3403b81",
   "metadata": {
    "ExecuteTime": {
     "end_time": "2024-08-26T23:09:56.778291Z",
     "start_time": "2024-08-26T23:09:39.508060Z"
    }
   },
   "outputs": [],
   "source": "summaries = summarization.summarize_works_for_query(query, works[:1]) # summarization"
  },
  {
   "cell_type": "code",
   "execution_count": 15,
   "id": "f38e9631ce84d0a",
   "metadata": {
    "ExecuteTime": {
     "end_time": "2024-08-26T23:09:56.821966Z",
     "start_time": "2024-08-26T23:09:56.820383Z"
    }
   },
   "outputs": [
    {
     "name": "stdout",
     "output_type": "stream",
     "text": [
      "Distributed Invariant Kalman Filter for Cooperative Localization using\n",
      "  Matrix Lie Groups\n",
      "Summary: The paper introduces an improved distributed Kalman Filter (DInEKF) for cooperative localization in multi-robot systems, leveraging Lie group theory for better consistency and accuracy. Using both simulations and real-world tests, the DInEKF method outperforms traditional filters. This aligns closely with research interests in cooperative localization by improving accuracy through innovative filtering methods and effective information sharing among vehicles.\n"
     ]
    }
   ],
   "source": [
    "print(summaries[0])"
   ]
  }
 ],
 "metadata": {
  "kernelspec": {
   "display_name": "Python 3 (ipykernel)",
   "language": "python",
   "name": "python3"
  },
  "language_info": {
   "codemirror_mode": {
    "name": "ipython",
    "version": 3
   },
   "file_extension": ".py",
   "mimetype": "text/x-python",
   "name": "python",
   "nbconvert_exporter": "python",
   "pygments_lexer": "ipython3",
   "version": "3.12.7"
  }
 },
 "nbformat": 4,
 "nbformat_minor": 5
}
