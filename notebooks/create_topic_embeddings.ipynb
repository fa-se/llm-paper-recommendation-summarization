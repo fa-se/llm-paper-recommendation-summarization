{
 "cells": [
  {
   "cell_type": "markdown",
   "id": "6134793c-20e3-4b9f-9eeb-de0eeaad8896",
   "metadata": {},
   "source": "### Setup"
  },
  {
   "cell_type": "code",
   "id": "4f9cb4d904418ade",
   "metadata": {
    "collapsed": true,
    "jupyter": {
     "outputs_hidden": true,
     "source_hidden": true
    },
    "ExecuteTime": {
     "end_time": "2024-04-17T17:13:41.465130Z",
     "start_time": "2024-04-17T17:13:41.027897Z"
    }
   },
   "source": [
    "import pprint\n",
    "from os import environ\n",
    "\n",
    "import pyalex\n",
    "import pandas as pd\n",
    "from sqlalchemy import create_engine\n"
   ],
   "outputs": [],
   "execution_count": 1
  },
  {
   "cell_type": "code",
   "id": "2f3bb824393dd038",
   "metadata": {
    "collapsed": true,
    "jupyter": {
     "outputs_hidden": true,
     "source_hidden": true
    },
    "ExecuteTime": {
     "end_time": "2024-04-17T17:13:42.052680Z",
     "start_time": "2024-04-17T17:13:41.969819Z"
    }
   },
   "source": [
    "# setup\n",
    "pyalex.config.email = environ.get(\"OPENALEX_CONTACT_EMAIL\")\n",
    "# db\n",
    "db_url = f\"postgresql+psycopg://{environ.get('DB_USER')}:{environ.get('DB_PASSWORD')}@{environ.get('DB_HOST')}:5432/{environ.get('DB_NAME')}\"\n",
    "engine = create_engine(db_url)"
   ],
   "outputs": [],
   "execution_count": 2
  },
  {
   "cell_type": "code",
   "id": "126aaf6f9a7840ba",
   "metadata": {
    "collapsed": true,
    "jupyter": {
     "outputs_hidden": true,
     "source_hidden": true
    },
    "ExecuteTime": {
     "end_time": "2024-04-17T17:13:42.279511Z",
     "start_time": "2024-04-17T17:13:42.276860Z"
    }
   },
   "source": [
    "# function for fetching openalex entities, returning dataframe\n",
    "def fetch_all_objects(entity_type: pyalex.api.BaseOpenAlex, fields: list[str]) -> pd.DataFrame:\n",
    "    from itertools import chain\n",
    "    results = []\n",
    "    for result in chain(*entity_type.select(fields).sort(id=\"asc\").paginate(per_page=200)):\n",
    "        results.append(result)\n",
    "    return pd.DataFrame(results)"
   ],
   "outputs": [],
   "execution_count": 3
  },
  {
   "cell_type": "code",
   "id": "addeccc0d52ad9a6",
   "metadata": {
    "collapsed": true,
    "jupyter": {
     "outputs_hidden": true,
     "source_hidden": true
    },
    "ExecuteTime": {
     "end_time": "2024-04-17T17:14:17.930834Z",
     "start_time": "2024-04-17T17:13:42.851605Z"
    }
   },
   "source": [
    "domains = fetch_all_objects(pyalex.Domains(), [\"id\", \"display_name\", \"description\", \"ids\", \"updated_date\"])\n",
    "fields = fetch_all_objects(pyalex.Fields(), [\"id\", \"display_name\", \"description\", \"ids\", \"updated_date\", \"domain\"])\n",
    "subfields = fetch_all_objects(pyalex.Subfields(), [\"id\", \"display_name\", \"description\", \"ids\", \"updated_date\", \"field\"])\n",
    "topics = fetch_all_objects(pyalex.Topics(), [\"id\", \"display_name\", \"description\", \"ids\", \"updated_date\", \"subfield\", \"keywords\"])"
   ],
   "outputs": [],
   "execution_count": 4
  },
  {
   "cell_type": "code",
   "id": "c1d94d84ba3fc6c8",
   "metadata": {
    "ExecuteTime": {
     "end_time": "2024-04-17T17:14:17.952815Z",
     "start_time": "2024-04-17T17:14:17.931434Z"
    }
   },
   "source": [
    "topics # as provided by the API"
   ],
   "outputs": [
    {
     "data": {
      "text/plain": [
       "                               id  \\\n",
       "0     https://openalex.org/T10001   \n",
       "1     https://openalex.org/T10002   \n",
       "2     https://openalex.org/T10003   \n",
       "3     https://openalex.org/T10004   \n",
       "4     https://openalex.org/T10005   \n",
       "...                           ...   \n",
       "4511  https://openalex.org/T14517   \n",
       "4512  https://openalex.org/T14518   \n",
       "4513  https://openalex.org/T14519   \n",
       "4514  https://openalex.org/T14520   \n",
       "4515  https://openalex.org/T14521   \n",
       "\n",
       "                                           display_name  \\\n",
       "0     Tectonic and Geochronological Evolution of Oro...   \n",
       "1             Advancements in Density Functional Theory   \n",
       "2     Knowledge Management and Organizational Innova...   \n",
       "3     Soil Carbon Dynamics and Nutrient Cycling in E...   \n",
       "4     Biodiversity Conservation and Ecosystem Manage...   \n",
       "...                                                 ...   \n",
       "4511        History of Science and Knowledge Production   \n",
       "4512  Baseball's Influence on American Culture and S...   \n",
       "4513            Digital Education and Knowledge Economy   \n",
       "4514  Slow Cities Movement and Sustainable Urban Dev...   \n",
       "4515           Medicinal Plants and Their Bioactivities   \n",
       "\n",
       "                                            description  \\\n",
       "0     This cluster of papers focuses on the tectonic...   \n",
       "1     This cluster of papers represents advancements...   \n",
       "2     This cluster of papers revolves around the top...   \n",
       "3     This cluster of papers explores the dynamics o...   \n",
       "4     This cluster of papers focuses on the conserva...   \n",
       "...                                                 ...   \n",
       "4511  This cluster of papers covers a wide range of ...   \n",
       "4512  This cluster of papers explores the profound i...   \n",
       "4513  This cluster of papers explores the intersecti...   \n",
       "4514  This cluster of papers explores the Slow Citie...   \n",
       "4515  This cluster of papers explores the bioactivit...   \n",
       "\n",
       "                                                    ids  \\\n",
       "0     {'openalex': 'https://openalex.org/T10001', 'w...   \n",
       "1     {'openalex': 'https://openalex.org/T10002', 'w...   \n",
       "2     {'openalex': 'https://openalex.org/T10003', 'w...   \n",
       "3     {'openalex': 'https://openalex.org/T10004', 'w...   \n",
       "4     {'openalex': 'https://openalex.org/T10005', 'w...   \n",
       "...                                                 ...   \n",
       "4511  {'openalex': 'https://openalex.org/T14517', 'w...   \n",
       "4512  {'openalex': 'https://openalex.org/T14518', 'w...   \n",
       "4513  {'openalex': 'https://openalex.org/T14519', 'w...   \n",
       "4514  {'openalex': 'https://openalex.org/T14520', 'w...   \n",
       "4515  {'openalex': 'https://openalex.org/T14521', 'w...   \n",
       "\n",
       "                    updated_date  \\\n",
       "0     2024-04-15T05:08:59.270713   \n",
       "1     2024-04-15T05:11:05.125350   \n",
       "2     2024-04-15T05:09:54.770680   \n",
       "3     2024-04-15T05:18:28.084257   \n",
       "4     2024-04-15T05:18:22.006411   \n",
       "...                          ...   \n",
       "4511  2024-04-15T05:18:07.300900   \n",
       "4512  2024-04-15T05:13:01.425558   \n",
       "4513  2024-04-15T05:06:52.448052   \n",
       "4514  2024-04-15T05:09:13.838428   \n",
       "4515  2024-04-15T05:10:07.737525   \n",
       "\n",
       "                                               subfield  \\\n",
       "0     {'id': 'https://openalex.org/subfields/1908', ...   \n",
       "1     {'id': 'https://openalex.org/subfields/3107', ...   \n",
       "2     {'id': 'https://openalex.org/subfields/1408', ...   \n",
       "3     {'id': 'https://openalex.org/subfields/1111', ...   \n",
       "4     {'id': 'https://openalex.org/subfields/2309', ...   \n",
       "...                                                 ...   \n",
       "4511  {'id': 'https://openalex.org/subfields/1207', ...   \n",
       "4512  {'id': 'https://openalex.org/subfields/1202', ...   \n",
       "4513  {'id': 'https://openalex.org/subfields/1710', ...   \n",
       "4514  {'id': 'https://openalex.org/subfields/3322', ...   \n",
       "4515  {'id': 'https://openalex.org/subfields/1110', ...   \n",
       "\n",
       "                                               keywords  \n",
       "0     [Zircon, Geochronology, Tectonics, Granitic Ro...  \n",
       "1     [Density Functional Theory, Dispersion Correct...  \n",
       "2     [Dynamic Capabilities, Knowledge Transfer, Bus...  \n",
       "3     [Soil Carbon Sequestration, Nitrogen Cycle, Mi...  \n",
       "4     [Biodiversity, Conservation, Ecosystem, Invasi...  \n",
       "...                                                 ...  \n",
       "4511  [History, Science, Knowledge Production, Medic...  \n",
       "4512  [Baseball, American Culture, Societal Influenc...  \n",
       "4513  [Digital Education, E-Learning, Knowledge Econ...  \n",
       "4514  [Slow Cities, Sustainable Development, Urban S...  \n",
       "4515  [Medicinal Plants, Bioactive Compounds, Antiox...  \n",
       "\n",
       "[4516 rows x 7 columns]"
      ],
      "text/html": [
       "<div>\n",
       "<style scoped>\n",
       "    .dataframe tbody tr th:only-of-type {\n",
       "        vertical-align: middle;\n",
       "    }\n",
       "\n",
       "    .dataframe tbody tr th {\n",
       "        vertical-align: top;\n",
       "    }\n",
       "\n",
       "    .dataframe thead th {\n",
       "        text-align: right;\n",
       "    }\n",
       "</style>\n",
       "<table border=\"1\" class=\"dataframe\">\n",
       "  <thead>\n",
       "    <tr style=\"text-align: right;\">\n",
       "      <th></th>\n",
       "      <th>id</th>\n",
       "      <th>display_name</th>\n",
       "      <th>description</th>\n",
       "      <th>ids</th>\n",
       "      <th>updated_date</th>\n",
       "      <th>subfield</th>\n",
       "      <th>keywords</th>\n",
       "    </tr>\n",
       "  </thead>\n",
       "  <tbody>\n",
       "    <tr>\n",
       "      <th>0</th>\n",
       "      <td>https://openalex.org/T10001</td>\n",
       "      <td>Tectonic and Geochronological Evolution of Oro...</td>\n",
       "      <td>This cluster of papers focuses on the tectonic...</td>\n",
       "      <td>{'openalex': 'https://openalex.org/T10001', 'w...</td>\n",
       "      <td>2024-04-15T05:08:59.270713</td>\n",
       "      <td>{'id': 'https://openalex.org/subfields/1908', ...</td>\n",
       "      <td>[Zircon, Geochronology, Tectonics, Granitic Ro...</td>\n",
       "    </tr>\n",
       "    <tr>\n",
       "      <th>1</th>\n",
       "      <td>https://openalex.org/T10002</td>\n",
       "      <td>Advancements in Density Functional Theory</td>\n",
       "      <td>This cluster of papers represents advancements...</td>\n",
       "      <td>{'openalex': 'https://openalex.org/T10002', 'w...</td>\n",
       "      <td>2024-04-15T05:11:05.125350</td>\n",
       "      <td>{'id': 'https://openalex.org/subfields/3107', ...</td>\n",
       "      <td>[Density Functional Theory, Dispersion Correct...</td>\n",
       "    </tr>\n",
       "    <tr>\n",
       "      <th>2</th>\n",
       "      <td>https://openalex.org/T10003</td>\n",
       "      <td>Knowledge Management and Organizational Innova...</td>\n",
       "      <td>This cluster of papers revolves around the top...</td>\n",
       "      <td>{'openalex': 'https://openalex.org/T10003', 'w...</td>\n",
       "      <td>2024-04-15T05:09:54.770680</td>\n",
       "      <td>{'id': 'https://openalex.org/subfields/1408', ...</td>\n",
       "      <td>[Dynamic Capabilities, Knowledge Transfer, Bus...</td>\n",
       "    </tr>\n",
       "    <tr>\n",
       "      <th>3</th>\n",
       "      <td>https://openalex.org/T10004</td>\n",
       "      <td>Soil Carbon Dynamics and Nutrient Cycling in E...</td>\n",
       "      <td>This cluster of papers explores the dynamics o...</td>\n",
       "      <td>{'openalex': 'https://openalex.org/T10004', 'w...</td>\n",
       "      <td>2024-04-15T05:18:28.084257</td>\n",
       "      <td>{'id': 'https://openalex.org/subfields/1111', ...</td>\n",
       "      <td>[Soil Carbon Sequestration, Nitrogen Cycle, Mi...</td>\n",
       "    </tr>\n",
       "    <tr>\n",
       "      <th>4</th>\n",
       "      <td>https://openalex.org/T10005</td>\n",
       "      <td>Biodiversity Conservation and Ecosystem Manage...</td>\n",
       "      <td>This cluster of papers focuses on the conserva...</td>\n",
       "      <td>{'openalex': 'https://openalex.org/T10005', 'w...</td>\n",
       "      <td>2024-04-15T05:18:22.006411</td>\n",
       "      <td>{'id': 'https://openalex.org/subfields/2309', ...</td>\n",
       "      <td>[Biodiversity, Conservation, Ecosystem, Invasi...</td>\n",
       "    </tr>\n",
       "    <tr>\n",
       "      <th>...</th>\n",
       "      <td>...</td>\n",
       "      <td>...</td>\n",
       "      <td>...</td>\n",
       "      <td>...</td>\n",
       "      <td>...</td>\n",
       "      <td>...</td>\n",
       "      <td>...</td>\n",
       "    </tr>\n",
       "    <tr>\n",
       "      <th>4511</th>\n",
       "      <td>https://openalex.org/T14517</td>\n",
       "      <td>History of Science and Knowledge Production</td>\n",
       "      <td>This cluster of papers covers a wide range of ...</td>\n",
       "      <td>{'openalex': 'https://openalex.org/T14517', 'w...</td>\n",
       "      <td>2024-04-15T05:18:07.300900</td>\n",
       "      <td>{'id': 'https://openalex.org/subfields/1207', ...</td>\n",
       "      <td>[History, Science, Knowledge Production, Medic...</td>\n",
       "    </tr>\n",
       "    <tr>\n",
       "      <th>4512</th>\n",
       "      <td>https://openalex.org/T14518</td>\n",
       "      <td>Baseball's Influence on American Culture and S...</td>\n",
       "      <td>This cluster of papers explores the profound i...</td>\n",
       "      <td>{'openalex': 'https://openalex.org/T14518', 'w...</td>\n",
       "      <td>2024-04-15T05:13:01.425558</td>\n",
       "      <td>{'id': 'https://openalex.org/subfields/1202', ...</td>\n",
       "      <td>[Baseball, American Culture, Societal Influenc...</td>\n",
       "    </tr>\n",
       "    <tr>\n",
       "      <th>4513</th>\n",
       "      <td>https://openalex.org/T14519</td>\n",
       "      <td>Digital Education and Knowledge Economy</td>\n",
       "      <td>This cluster of papers explores the intersecti...</td>\n",
       "      <td>{'openalex': 'https://openalex.org/T14519', 'w...</td>\n",
       "      <td>2024-04-15T05:06:52.448052</td>\n",
       "      <td>{'id': 'https://openalex.org/subfields/1710', ...</td>\n",
       "      <td>[Digital Education, E-Learning, Knowledge Econ...</td>\n",
       "    </tr>\n",
       "    <tr>\n",
       "      <th>4514</th>\n",
       "      <td>https://openalex.org/T14520</td>\n",
       "      <td>Slow Cities Movement and Sustainable Urban Dev...</td>\n",
       "      <td>This cluster of papers explores the Slow Citie...</td>\n",
       "      <td>{'openalex': 'https://openalex.org/T14520', 'w...</td>\n",
       "      <td>2024-04-15T05:09:13.838428</td>\n",
       "      <td>{'id': 'https://openalex.org/subfields/3322', ...</td>\n",
       "      <td>[Slow Cities, Sustainable Development, Urban S...</td>\n",
       "    </tr>\n",
       "    <tr>\n",
       "      <th>4515</th>\n",
       "      <td>https://openalex.org/T14521</td>\n",
       "      <td>Medicinal Plants and Their Bioactivities</td>\n",
       "      <td>This cluster of papers explores the bioactivit...</td>\n",
       "      <td>{'openalex': 'https://openalex.org/T14521', 'w...</td>\n",
       "      <td>2024-04-15T05:10:07.737525</td>\n",
       "      <td>{'id': 'https://openalex.org/subfields/1110', ...</td>\n",
       "      <td>[Medicinal Plants, Bioactive Compounds, Antiox...</td>\n",
       "    </tr>\n",
       "  </tbody>\n",
       "</table>\n",
       "<p>4516 rows × 7 columns</p>\n",
       "</div>"
      ]
     },
     "execution_count": 5,
     "metadata": {},
     "output_type": "execute_result"
    }
   ],
   "execution_count": 5
  },
  {
   "cell_type": "markdown",
   "id": "fe326ff4-9c47-43d2-b445-4e88e7afca0a",
   "metadata": {},
   "source": [
    "### Cleanup and preprocessing for embedding and db\n",
    "1. Extract numeric id from OpenAlex URL.\n",
    "2. Create separate columns for wikipedia and wikidata URLs.\n",
    "3. Add column with parent id (Domain -> Field -> Subfield -> Topic)"
   ]
  },
  {
   "cell_type": "code",
   "id": "758bb635eb3ea54a",
   "metadata": {
    "collapsed": true,
    "jupyter": {
     "outputs_hidden": true,
     "source_hidden": true
    },
    "ExecuteTime": {
     "end_time": "2024-04-17T17:14:22.896192Z",
     "start_time": "2024-04-17T17:14:22.893158Z"
    }
   },
   "source": [
    "# function for preprocessing dataframe for embedding\n",
    "def preprocess(df: pd.DataFrame, type_name: str) -> pd.DataFrame:\n",
    "    df = df.copy()\n",
    "    # id needs to be extracted from id column, which contains openalex urls\n",
    "    id_regex = r\"(\\d+)$\" # id is the number at the end of the url\n",
    "    df[\"id\"] = df[\"id\"].str.extract(id_regex)\n",
    "    df.set_index(\"id\", verify_integrity=True, inplace=True)\n",
    "    # create separate columns for wikidata and wikipedia urls from ids column\n",
    "    df[\"wikipedia\"] = df[\"ids\"].apply(lambda x: x.get(\"wikipedia\", None))\n",
    "    # topics don't have wikidata urls\n",
    "    if type_name != \"topic\":\n",
    "        df[\"wikidata\"] = df[\"ids\"].apply(lambda x: x.get(\"wikidata\", None))\n",
    "    df.drop(\"ids\", axis=1, inplace=True)\n",
    "    \n",
    "    \n",
    "    type_to_parent_type = {\n",
    "        \"field\": \"domain\",\n",
    "        \"subfield\": \"field\",\n",
    "        \"topic\": \"subfield\"\n",
    "    }\n",
    "    # extract parent id\n",
    "    if type_name != \"domain\": # domains have no parent\n",
    "        # extract parent url from dict\n",
    "        df[type_to_parent_type[type_name]] = df[type_to_parent_type[type_name]].apply(lambda x: x.get(\"id\", None))\n",
    "        # and extract the id\n",
    "        df[type_to_parent_type[type_name]] = df[type_to_parent_type[type_name]].str.extract(id_regex)\n",
    "    \n",
    "    return df"
   ],
   "outputs": [],
   "execution_count": 6
  },
  {
   "cell_type": "code",
   "id": "d1ef6e0786c81d3f",
   "metadata": {
    "collapsed": true,
    "jupyter": {
     "outputs_hidden": true,
     "source_hidden": true
    },
    "ExecuteTime": {
     "end_time": "2024-04-17T17:14:24.560862Z",
     "start_time": "2024-04-17T17:14:24.541849Z"
    }
   },
   "source": [
    "preprocessed_domains = preprocess(domains, \"domain\")\n",
    "preprocessed_fields = preprocess(fields, \"field\")\n",
    "preprocessed_subfields = preprocess(subfields, \"subfield\")\n",
    "preprocessed_topics = preprocess(topics, \"topic\")"
   ],
   "outputs": [],
   "execution_count": 7
  },
  {
   "cell_type": "code",
   "id": "1483a69015700044",
   "metadata": {
    "ExecuteTime": {
     "end_time": "2024-04-17T17:14:25.193086Z",
     "start_time": "2024-04-17T17:14:25.187397Z"
    }
   },
   "source": [
    "preprocessed_topics"
   ],
   "outputs": [
    {
     "data": {
      "text/plain": [
       "                                            display_name  \\\n",
       "id                                                         \n",
       "10001  Tectonic and Geochronological Evolution of Oro...   \n",
       "10002          Advancements in Density Functional Theory   \n",
       "10003  Knowledge Management and Organizational Innova...   \n",
       "10004  Soil Carbon Dynamics and Nutrient Cycling in E...   \n",
       "10005  Biodiversity Conservation and Ecosystem Manage...   \n",
       "...                                                  ...   \n",
       "14517        History of Science and Knowledge Production   \n",
       "14518  Baseball's Influence on American Culture and S...   \n",
       "14519            Digital Education and Knowledge Economy   \n",
       "14520  Slow Cities Movement and Sustainable Urban Dev...   \n",
       "14521           Medicinal Plants and Their Bioactivities   \n",
       "\n",
       "                                             description  \\\n",
       "id                                                         \n",
       "10001  This cluster of papers focuses on the tectonic...   \n",
       "10002  This cluster of papers represents advancements...   \n",
       "10003  This cluster of papers revolves around the top...   \n",
       "10004  This cluster of papers explores the dynamics o...   \n",
       "10005  This cluster of papers focuses on the conserva...   \n",
       "...                                                  ...   \n",
       "14517  This cluster of papers covers a wide range of ...   \n",
       "14518  This cluster of papers explores the profound i...   \n",
       "14519  This cluster of papers explores the intersecti...   \n",
       "14520  This cluster of papers explores the Slow Citie...   \n",
       "14521  This cluster of papers explores the bioactivit...   \n",
       "\n",
       "                     updated_date subfield  \\\n",
       "id                                           \n",
       "10001  2024-04-15T05:08:59.270713     1908   \n",
       "10002  2024-04-15T05:11:05.125350     3107   \n",
       "10003  2024-04-15T05:09:54.770680     1408   \n",
       "10004  2024-04-15T05:18:28.084257     1111   \n",
       "10005  2024-04-15T05:18:22.006411     2309   \n",
       "...                           ...      ...   \n",
       "14517  2024-04-15T05:18:07.300900     1207   \n",
       "14518  2024-04-15T05:13:01.425558     1202   \n",
       "14519  2024-04-15T05:06:52.448052     1710   \n",
       "14520  2024-04-15T05:09:13.838428     3322   \n",
       "14521  2024-04-15T05:10:07.737525     1110   \n",
       "\n",
       "                                                keywords  \\\n",
       "id                                                         \n",
       "10001  [Zircon, Geochronology, Tectonics, Granitic Ro...   \n",
       "10002  [Density Functional Theory, Dispersion Correct...   \n",
       "10003  [Dynamic Capabilities, Knowledge Transfer, Bus...   \n",
       "10004  [Soil Carbon Sequestration, Nitrogen Cycle, Mi...   \n",
       "10005  [Biodiversity, Conservation, Ecosystem, Invasi...   \n",
       "...                                                  ...   \n",
       "14517  [History, Science, Knowledge Production, Medic...   \n",
       "14518  [Baseball, American Culture, Societal Influenc...   \n",
       "14519  [Digital Education, E-Learning, Knowledge Econ...   \n",
       "14520  [Slow Cities, Sustainable Development, Urban S...   \n",
       "14521  [Medicinal Plants, Bioactive Compounds, Antiox...   \n",
       "\n",
       "                                               wikipedia  \n",
       "id                                                        \n",
       "10001        https://en.wikipedia.org/wiki/Geochronology  \n",
       "10002  https://en.wikipedia.org/wiki/Density_function...  \n",
       "10003  https://en.wikipedia.org/wiki/Knowledge_manage...  \n",
       "10004  https://en.wikipedia.org/wiki/Soil_carbon_dyna...  \n",
       "10005  https://en.wikipedia.org/wiki/Biodiversity_con...  \n",
       "...                                                  ...  \n",
       "14517   https://en.wikipedia.org/wiki/History_of_science  \n",
       "14518  https://en.wikipedia.org/wiki/Baseball_in_the_...  \n",
       "14519    https://en.wikipedia.org/wiki/Digital_education  \n",
       "14520       https://en.wikipedia.org/wiki/Citt%C3%A0slow  \n",
       "14521     https://en.wikipedia.org/wiki/Medicinal_plants  \n",
       "\n",
       "[4516 rows x 6 columns]"
      ],
      "text/html": [
       "<div>\n",
       "<style scoped>\n",
       "    .dataframe tbody tr th:only-of-type {\n",
       "        vertical-align: middle;\n",
       "    }\n",
       "\n",
       "    .dataframe tbody tr th {\n",
       "        vertical-align: top;\n",
       "    }\n",
       "\n",
       "    .dataframe thead th {\n",
       "        text-align: right;\n",
       "    }\n",
       "</style>\n",
       "<table border=\"1\" class=\"dataframe\">\n",
       "  <thead>\n",
       "    <tr style=\"text-align: right;\">\n",
       "      <th></th>\n",
       "      <th>display_name</th>\n",
       "      <th>description</th>\n",
       "      <th>updated_date</th>\n",
       "      <th>subfield</th>\n",
       "      <th>keywords</th>\n",
       "      <th>wikipedia</th>\n",
       "    </tr>\n",
       "    <tr>\n",
       "      <th>id</th>\n",
       "      <th></th>\n",
       "      <th></th>\n",
       "      <th></th>\n",
       "      <th></th>\n",
       "      <th></th>\n",
       "      <th></th>\n",
       "    </tr>\n",
       "  </thead>\n",
       "  <tbody>\n",
       "    <tr>\n",
       "      <th>10001</th>\n",
       "      <td>Tectonic and Geochronological Evolution of Oro...</td>\n",
       "      <td>This cluster of papers focuses on the tectonic...</td>\n",
       "      <td>2024-04-15T05:08:59.270713</td>\n",
       "      <td>1908</td>\n",
       "      <td>[Zircon, Geochronology, Tectonics, Granitic Ro...</td>\n",
       "      <td>https://en.wikipedia.org/wiki/Geochronology</td>\n",
       "    </tr>\n",
       "    <tr>\n",
       "      <th>10002</th>\n",
       "      <td>Advancements in Density Functional Theory</td>\n",
       "      <td>This cluster of papers represents advancements...</td>\n",
       "      <td>2024-04-15T05:11:05.125350</td>\n",
       "      <td>3107</td>\n",
       "      <td>[Density Functional Theory, Dispersion Correct...</td>\n",
       "      <td>https://en.wikipedia.org/wiki/Density_function...</td>\n",
       "    </tr>\n",
       "    <tr>\n",
       "      <th>10003</th>\n",
       "      <td>Knowledge Management and Organizational Innova...</td>\n",
       "      <td>This cluster of papers revolves around the top...</td>\n",
       "      <td>2024-04-15T05:09:54.770680</td>\n",
       "      <td>1408</td>\n",
       "      <td>[Dynamic Capabilities, Knowledge Transfer, Bus...</td>\n",
       "      <td>https://en.wikipedia.org/wiki/Knowledge_manage...</td>\n",
       "    </tr>\n",
       "    <tr>\n",
       "      <th>10004</th>\n",
       "      <td>Soil Carbon Dynamics and Nutrient Cycling in E...</td>\n",
       "      <td>This cluster of papers explores the dynamics o...</td>\n",
       "      <td>2024-04-15T05:18:28.084257</td>\n",
       "      <td>1111</td>\n",
       "      <td>[Soil Carbon Sequestration, Nitrogen Cycle, Mi...</td>\n",
       "      <td>https://en.wikipedia.org/wiki/Soil_carbon_dyna...</td>\n",
       "    </tr>\n",
       "    <tr>\n",
       "      <th>10005</th>\n",
       "      <td>Biodiversity Conservation and Ecosystem Manage...</td>\n",
       "      <td>This cluster of papers focuses on the conserva...</td>\n",
       "      <td>2024-04-15T05:18:22.006411</td>\n",
       "      <td>2309</td>\n",
       "      <td>[Biodiversity, Conservation, Ecosystem, Invasi...</td>\n",
       "      <td>https://en.wikipedia.org/wiki/Biodiversity_con...</td>\n",
       "    </tr>\n",
       "    <tr>\n",
       "      <th>...</th>\n",
       "      <td>...</td>\n",
       "      <td>...</td>\n",
       "      <td>...</td>\n",
       "      <td>...</td>\n",
       "      <td>...</td>\n",
       "      <td>...</td>\n",
       "    </tr>\n",
       "    <tr>\n",
       "      <th>14517</th>\n",
       "      <td>History of Science and Knowledge Production</td>\n",
       "      <td>This cluster of papers covers a wide range of ...</td>\n",
       "      <td>2024-04-15T05:18:07.300900</td>\n",
       "      <td>1207</td>\n",
       "      <td>[History, Science, Knowledge Production, Medic...</td>\n",
       "      <td>https://en.wikipedia.org/wiki/History_of_science</td>\n",
       "    </tr>\n",
       "    <tr>\n",
       "      <th>14518</th>\n",
       "      <td>Baseball's Influence on American Culture and S...</td>\n",
       "      <td>This cluster of papers explores the profound i...</td>\n",
       "      <td>2024-04-15T05:13:01.425558</td>\n",
       "      <td>1202</td>\n",
       "      <td>[Baseball, American Culture, Societal Influenc...</td>\n",
       "      <td>https://en.wikipedia.org/wiki/Baseball_in_the_...</td>\n",
       "    </tr>\n",
       "    <tr>\n",
       "      <th>14519</th>\n",
       "      <td>Digital Education and Knowledge Economy</td>\n",
       "      <td>This cluster of papers explores the intersecti...</td>\n",
       "      <td>2024-04-15T05:06:52.448052</td>\n",
       "      <td>1710</td>\n",
       "      <td>[Digital Education, E-Learning, Knowledge Econ...</td>\n",
       "      <td>https://en.wikipedia.org/wiki/Digital_education</td>\n",
       "    </tr>\n",
       "    <tr>\n",
       "      <th>14520</th>\n",
       "      <td>Slow Cities Movement and Sustainable Urban Dev...</td>\n",
       "      <td>This cluster of papers explores the Slow Citie...</td>\n",
       "      <td>2024-04-15T05:09:13.838428</td>\n",
       "      <td>3322</td>\n",
       "      <td>[Slow Cities, Sustainable Development, Urban S...</td>\n",
       "      <td>https://en.wikipedia.org/wiki/Citt%C3%A0slow</td>\n",
       "    </tr>\n",
       "    <tr>\n",
       "      <th>14521</th>\n",
       "      <td>Medicinal Plants and Their Bioactivities</td>\n",
       "      <td>This cluster of papers explores the bioactivit...</td>\n",
       "      <td>2024-04-15T05:10:07.737525</td>\n",
       "      <td>1110</td>\n",
       "      <td>[Medicinal Plants, Bioactive Compounds, Antiox...</td>\n",
       "      <td>https://en.wikipedia.org/wiki/Medicinal_plants</td>\n",
       "    </tr>\n",
       "  </tbody>\n",
       "</table>\n",
       "<p>4516 rows × 6 columns</p>\n",
       "</div>"
      ]
     },
     "execution_count": 8,
     "metadata": {},
     "output_type": "execute_result"
    }
   ],
   "execution_count": 8
  },
  {
   "cell_type": "markdown",
   "id": "47b206e1-d0f2-413d-9f9b-d9d870ec4e66",
   "metadata": {},
   "source": [
    "### Generate string representation used as input for embedding\n",
    "Essentially, concatenate column names with their content:\n",
    "\n",
    "`\"Topic: {topic_name}; Description: {topic_description}; Keywords: {topic_keywords}\"`"
   ]
  },
  {
   "cell_type": "code",
   "id": "c923ca775d134d98",
   "metadata": {
    "collapsed": true,
    "jupyter": {
     "outputs_hidden": true,
     "source_hidden": true
    },
    "ExecuteTime": {
     "end_time": "2024-04-17T17:14:36.095850Z",
     "start_time": "2024-04-17T17:14:36.088347Z"
    }
   },
   "source": [
    "# function to generate the string representation for embedding\n",
    "def generate_string_representation_for_embedding(df: pd.DataFrame, column_prefix_map: dict) -> pd.Series:\n",
    "    # first, check if all columns are present in the dataframe\n",
    "    for column in column_prefix_map.keys():\n",
    "        if column not in df.columns:\n",
    "            raise ValueError(f\"Column {column} not found in the dataframe.\")\n",
    "    \n",
    "    # Initialize a list to store the concatenated strings for each row\n",
    "    concatenated_strings = pd.Series(dtype=str)\n",
    "    \n",
    "    # Iterate over each row in the DataFrame\n",
    "    for index, row in df.iterrows():\n",
    "        # Initialize an empty list to store the strings for the current row\n",
    "        row_strings = []\n",
    "        # Iterate over the column map dictionary\n",
    "        for column_name, prefix in column_prefix_map.items():\n",
    "            column_value = row[column_name]\n",
    "            if type(column_value) == list:\n",
    "                column_value = \", \".join(column_value)\n",
    "            # Concatenate the column's value for the current row with the corresponding string\n",
    "            row_strings.append(prefix + \": \" + str(column_value).strip())\n",
    "        # Join the strings for the current row with \"; \" and add to the list\n",
    "        concatenated_strings.at[index] =\"; \".join(row_strings)\n",
    "        \n",
    "    return concatenated_strings"
   ],
   "outputs": [],
   "execution_count": 9
  },
  {
   "cell_type": "code",
   "id": "663e9b4edbdd92ad",
   "metadata": {
    "collapsed": true,
    "jupyter": {
     "outputs_hidden": true,
     "source_hidden": true
    },
    "ExecuteTime": {
     "end_time": "2024-04-17T17:14:38.066224Z",
     "start_time": "2024-04-17T17:14:36.908521Z"
    }
   },
   "source": [
    "preprocessed_domains[\"string_representation\"] = generate_string_representation_for_embedding(preprocessed_domains, {\n",
    "    \"display_name\": \"Domain\",\n",
    "    \"description\": \"Description\"\n",
    "})\n",
    "preprocessed_fields[\"string_representation\"] = generate_string_representation_for_embedding(preprocessed_fields, {\n",
    "    \"display_name\": \"Field\",\n",
    "    \"description\": \"Description\"\n",
    "})\n",
    "preprocessed_subfields[\"string_representation\"] = generate_string_representation_for_embedding(preprocessed_subfields, {\n",
    "    \"display_name\": \"Subfield\",\n",
    "    \"description\": \"Description\"\n",
    "})\n",
    "preprocessed_topics[\"string_representation\"] = generate_string_representation_for_embedding(preprocessed_topics, {\n",
    "    \"display_name\": \"Topic\",\n",
    "    \"description\": \"Description\",\n",
    "    \"keywords\": \"Keywords\"\n",
    "})"
   ],
   "outputs": [],
   "execution_count": 10
  },
  {
   "cell_type": "code",
   "id": "15d8369571c86f7e",
   "metadata": {
    "ExecuteTime": {
     "end_time": "2024-04-17T17:14:38.070509Z",
     "start_time": "2024-04-17T17:14:38.067417Z"
    }
   },
   "source": [
    "preprocessed_topics[\"string_representation\"].iloc[0]"
   ],
   "outputs": [
    {
     "data": {
      "text/plain": [
       "'Topic: Tectonic and Geochronological Evolution of Orogens; Description: This cluster of papers focuses on the tectonic evolution and geochronological analysis of orogenic processes, with a particular emphasis on zircon geochemistry, isotopic composition, and thermodynamic modeling. It covers topics such as subduction zones, mantle evolution, plate tectonics, and the growth of continental crust.; Keywords: Zircon, Geochronology, Tectonics, Granitic Rocks, Isotopic Composition, Subduction Zones, Mantle Evolution, Plate Tectonics, Thermodynamic Modeling, Continental Growth'"
      ]
     },
     "execution_count": 11,
     "metadata": {},
     "output_type": "execute_result"
    }
   ],
   "execution_count": 11
  },
  {
   "cell_type": "markdown",
   "id": "c58f3c06-fac9-4ad4-8d3e-d703b2ab6f5e",
   "metadata": {},
   "source": [
    "### Create embeddings"
   ]
  },
  {
   "cell_type": "code",
   "id": "f8c5487a444f0bb4",
   "metadata": {
    "collapsed": true,
    "jupyter": {
     "outputs_hidden": true,
     "source_hidden": true
    },
    "ExecuteTime": {
     "end_time": "2024-04-17T17:14:42.576864Z",
     "start_time": "2024-04-17T17:14:42.553002Z"
    }
   },
   "source": [
    "# function to calculate sum of tokens for a Series\n",
    "import tiktoken\n",
    "def calculate_total_tokens(series: pd.Series, encoding_name: str = \"cl100k_base\") -> int:\n",
    "    encoding = tiktoken.get_encoding(encoding_name)\n",
    "    return series.apply(lambda x: len(encoding.encode(x))).sum()\n",
    "# function to calculate embedding costs for a count of tokens\n",
    "def calculate_embedding_costs(num_tokens: int, price_per_m_tokens: float = 0.13) -> float:\n",
    "    price_per_token = price_per_m_tokens / 1000000\n",
    "    return num_tokens * price_per_token\n",
    "# TODO: function to calculate embedding costs for a Series"
   ],
   "outputs": [],
   "execution_count": 12
  },
  {
   "cell_type": "code",
   "id": "9c7e7c5969760643",
   "metadata": {
    "collapsed": true,
    "jupyter": {
     "outputs_hidden": true,
     "source_hidden": true
    },
    "ExecuteTime": {
     "end_time": "2024-04-17T17:14:43.424506Z",
     "start_time": "2024-04-17T17:14:43.089797Z"
    }
   },
   "source": [
    "total_tokens_for_domains = calculate_total_tokens(preprocessed_domains[\"string_representation\"])\n",
    "total_tokens_for_fields = calculate_total_tokens(preprocessed_fields[\"string_representation\"])\n",
    "total_tokens_for_subfields = calculate_total_tokens(preprocessed_subfields[\"string_representation\"])\n",
    "total_tokens_for_topics = calculate_total_tokens(preprocessed_topics[\"string_representation\"])\n",
    "\n",
    "embedding_costs_for_domains = calculate_embedding_costs(total_tokens_for_domains)\n",
    "embedding_costs_for_fields = calculate_embedding_costs(total_tokens_for_fields)\n",
    "embedding_costs_for_subfields = calculate_embedding_costs(total_tokens_for_subfields)\n",
    "embedding_costs_for_topics = calculate_embedding_costs(total_tokens_for_topics)\n",
    "\n",
    "print(f\"Total tokens for Domains: {total_tokens_for_domains} - Embedding costs: {embedding_costs_for_domains}\")\n",
    "print(f\"Total tokens for Fields: {total_tokens_for_fields} - Embedding costs: {embedding_costs_for_fields}\")\n",
    "print(f\"Total tokens for Subfields: {total_tokens_for_subfields} - Embedding costs: {embedding_costs_for_subfields}\")\n",
    "print(f\"Total tokens for Topics: {total_tokens_for_topics} - Embedding costs: {embedding_costs_for_topics}\")\n",
    "print(f\"Total embedding costs: {embedding_costs_for_domains + embedding_costs_for_fields + embedding_costs_for_subfields + embedding_costs_for_topics}\")"
   ],
   "outputs": [
    {
     "name": "stdout",
     "output_type": "stream",
     "text": [
      "Total tokens for Domains: 92 - Embedding costs: 1.196e-05\n",
      "Total tokens for Fields: 559 - Embedding costs: 7.267e-05\n",
      "Total tokens for Subfields: 5092 - Embedding costs: 0.00066196\n",
      "Total tokens for Topics: 550122 - Embedding costs: 0.07151586\n",
      "Total embedding costs: 0.07226245\n"
     ]
    }
   ],
   "execution_count": 13
  },
  {
   "cell_type": "code",
   "id": "8d3d683c2c98edd",
   "metadata": {
    "collapsed": true,
    "jupyter": {
     "outputs_hidden": true,
     "source_hidden": true
    },
    "ExecuteTime": {
     "end_time": "2024-04-17T17:14:45.741847Z",
     "start_time": "2024-04-17T17:14:45.359570Z"
    }
   },
   "source": [
    "from openai import OpenAI\n",
    "# function to get embeddings via OpenAI-API. Max. input is 2048 strings\n",
    "def get_embeddings(input: pd.Series, batch_size: int = 2048, model=\"text-embedding-3-large\", dimensions=1024) -> pd.Series:\n",
    "    client = OpenAI() # requires OPENAI_API_KEY environment variable to be set\n",
    "    # batch requests to speed up API calls\n",
    "    embeddings = []\n",
    "    for i in range(0, len(input), batch_size):\n",
    "        batch = input.iloc[i:i+batch_size]\n",
    "        response = client.embeddings.create(input=batch.tolist(), model=model, dimensions=dimensions)\n",
    "        embeddings.extend([r.embedding for r in response.data])\n",
    "    return pd.Series(embeddings, index=input.index)\n",
    "\n",
    "def get_embedding(text: str, model=\"text-embedding-3-large\", dimensions=1024):\n",
    "    client = OpenAI() # requires OPENAI_API_KEY environment variable to be set\n",
    "    response = client.embeddings.create(input=[text], model=model, dimensions=dimensions)\n",
    "    return response.data[0].embedding"
   ],
   "outputs": [],
   "execution_count": 14
  },
  {
   "cell_type": "code",
   "id": "f35748d5d8cae83e",
   "metadata": {
    "collapsed": true,
    "jupyter": {
     "outputs_hidden": true,
     "source_hidden": true
    },
    "ExecuteTime": {
     "end_time": "2024-04-17T17:15:03.866162Z",
     "start_time": "2024-04-17T17:14:47.187739Z"
    }
   },
   "source": [
    "preprocessed_domains[\"embedding\"] = get_embeddings(preprocessed_domains[\"string_representation\"])\n",
    "preprocessed_fields[\"embedding\"] = get_embeddings(preprocessed_fields[\"string_representation\"])\n",
    "preprocessed_subfields[\"embedding\"] = get_embeddings(preprocessed_subfields[\"string_representation\"])\n",
    "preprocessed_topics[\"embedding\"] = get_embeddings(preprocessed_topics[\"string_representation\"])"
   ],
   "outputs": [],
   "execution_count": 15
  },
  {
   "cell_type": "code",
   "id": "c96b88fab71cfe20",
   "metadata": {
    "ExecuteTime": {
     "end_time": "2024-04-17T17:15:10.385919Z",
     "start_time": "2024-04-17T17:15:10.382805Z"
    }
   },
   "source": [
    "preprocessed_topics.iloc[0]"
   ],
   "outputs": [
    {
     "data": {
      "text/plain": [
       "display_name             Tectonic and Geochronological Evolution of Oro...\n",
       "description              This cluster of papers focuses on the tectonic...\n",
       "updated_date                                    2024-04-15T05:08:59.270713\n",
       "subfield                                                              1908\n",
       "keywords                 [Zircon, Geochronology, Tectonics, Granitic Ro...\n",
       "wikipedia                      https://en.wikipedia.org/wiki/Geochronology\n",
       "string_representation    Topic: Tectonic and Geochronological Evolution...\n",
       "embedding                [-0.014522067271173, -0.005941309034824371, -0...\n",
       "Name: 10001, dtype: object"
      ]
     },
     "execution_count": 16,
     "metadata": {},
     "output_type": "execute_result"
    }
   ],
   "execution_count": 16
  },
  {
   "cell_type": "markdown",
   "id": "1f82e57c-be3c-4b19-a53d-82a54e58d540",
   "metadata": {},
   "source": [
    "### Insert into database and cosine similarity query test"
   ]
  },
  {
   "cell_type": "code",
   "id": "ea97974f909640e1",
   "metadata": {
    "collapsed": true,
    "jupyter": {
     "outputs_hidden": true,
     "source_hidden": true
    },
    "ExecuteTime": {
     "end_time": "2024-04-17T17:15:13.983412Z",
     "start_time": "2024-04-17T17:15:13.981292Z"
    }
   },
   "source": [
    "# function to prepare dataframe for database insertion\n",
    "def prepare_dataframe_for_db(df: pd.DataFrame) -> pd.DataFrame:\n",
    "    df_for_db = df.copy()\n",
    "    df_for_db.drop([\"string_representation\"], axis=1, inplace=True)\n",
    "    df_for_db.rename(columns={\"display_name\": \"name\", \"domain\": \"domain_id\", \"field\": \"field_id\", \"subfield\": \"subfield_id\"}, inplace=True)\n",
    "    return df_for_db"
   ],
   "outputs": [],
   "execution_count": 17
  },
  {
   "cell_type": "code",
   "id": "dad6db5d4f53ecaa",
   "metadata": {
    "collapsed": true,
    "jupyter": {
     "outputs_hidden": true,
     "source_hidden": true
    },
    "ExecuteTime": {
     "end_time": "2024-04-17T17:15:14.369559Z",
     "start_time": "2024-04-17T17:15:14.364070Z"
    }
   },
   "source": [
    "domains_for_db = prepare_dataframe_for_db(preprocessed_domains)\n",
    "fields_for_db = prepare_dataframe_for_db(preprocessed_fields)\n",
    "subfields_for_db = prepare_dataframe_for_db(preprocessed_subfields)\n",
    "topics_for_db = prepare_dataframe_for_db(preprocessed_topics)"
   ],
   "outputs": [],
   "execution_count": 18
  },
  {
   "cell_type": "code",
   "id": "e62fac17ea3c27a",
   "metadata": {
    "collapsed": true,
    "jupyter": {
     "outputs_hidden": true,
     "source_hidden": true
    },
    "ExecuteTime": {
     "end_time": "2024-04-17T17:15:14.950084Z",
     "start_time": "2024-04-17T17:15:14.944954Z"
    }
   },
   "source": [
    "from sqlalchemy import String, DateTime, Integer, ARRAY\n",
    "from pgvector.sqlalchemy import Vector\n",
    "\n",
    "# function to insert dataframe into database\n",
    "def insert_dataframe_into_db(df: pd.DataFrame, type_name: str):\n",
    "    type_to_parent_type = {\n",
    "        \"field\": \"domain\",\n",
    "        \"subfield\": \"field\",\n",
    "        \"topic\": \"subfield\"\n",
    "    }\n",
    "    \n",
    "    column_name_to_column_type = {\n",
    "        \"id\": Integer,\n",
    "        \"name\": String,\n",
    "        'description': String,\n",
    "        \"updated_date\": DateTime,\n",
    "        \"wikipedia\": String,\n",
    "        \"embedding\": Vector(1024)\n",
    "    }\n",
    "    \n",
    "    if type_name != \"topic\":\n",
    "        column_name_to_column_type[\"wikidata\"] = String\n",
    "    else:\n",
    "        column_name_to_column_type[\"keywords\"] = ARRAY(String, dimensions=1)\n",
    "        \n",
    "    if type_name != \"domain\":\n",
    "        column_name_to_column_type[type_to_parent_type[type_name] + \"_id\"] = Integer\n",
    "    \n",
    "    table_name = f\"openalex_{type_name}\"\n",
    "    \n",
    "    \n",
    "    df.to_sql(table_name, con=engine, if_exists=\"append\", dtype=column_name_to_column_type)"
   ],
   "outputs": [],
   "execution_count": 19
  },
  {
   "cell_type": "code",
   "id": "46d38b47ead30e8b",
   "metadata": {
    "collapsed": true,
    "jupyter": {
     "outputs_hidden": true,
     "source_hidden": true
    },
    "ExecuteTime": {
     "end_time": "2024-04-17T17:17:53.629302Z",
     "start_time": "2024-04-17T17:17:50.532975Z"
    }
   },
   "source": [
    "insert_dataframe_into_db(domains_for_db, \"domain\")\n",
    "insert_dataframe_into_db(fields_for_db, \"field\")\n",
    "insert_dataframe_into_db(subfields_for_db, \"subfield\")\n",
    "insert_dataframe_into_db(topics_for_db, \"topic\")"
   ],
   "outputs": [],
   "execution_count": 21
  },
  {
   "cell_type": "code",
   "id": "fadd69f594d1b8f0",
   "metadata": {
    "collapsed": true,
    "jupyter": {
     "outputs_hidden": true,
     "source_hidden": true
    },
    "ExecuteTime": {
     "end_time": "2024-04-17T17:20:08.892100Z",
     "start_time": "2024-04-17T17:20:08.489756Z"
    }
   },
   "source": [
    "# get embeddings for a test query\n",
    "query = \"Leveraging LLMs for Personalized Suggestion and Summarization of Scientific Publications\"\n",
    "query_embedding = get_embedding(query)"
   ],
   "outputs": [],
   "execution_count": 23
  },
  {
   "metadata": {},
   "cell_type": "markdown",
   "source": "### Test",
   "id": "fed1fe83ffa67321"
  },
  {
   "cell_type": "code",
   "id": "6cb1f38f9995c95c",
   "metadata": {
    "collapsed": true,
    "jupyter": {
     "outputs_hidden": true,
     "source_hidden": true
    },
    "scrolled": true,
    "ExecuteTime": {
     "end_time": "2024-04-17T17:20:08.928738Z",
     "start_time": "2024-04-17T17:20:08.892957Z"
    }
   },
   "source": [
    "# calculate cosine similarity for test query via db\n",
    "from sqlalchemy import select, desc, text\n",
    "from sqlalchemy.orm import Session\n",
    "from db.models import Domain, Topic, Subfield\n",
    "\n",
    "with Session(engine) as session:\n",
    "    session.execute(text('CREATE EXTENSION IF NOT EXISTS vector'))\n",
    "    statement = select(Topic, (1 - Topic.embedding.cosine_distance(query_embedding)).label('cosine_similarity')).order_by(desc('cosine_similarity')).limit(5)\n",
    "    results = session.execute(statement).fetchall()\n",
    "    \n",
    "for result in results:\n",
    "    print(f\"{result.Topic.name}: {result.cosine_similarity}\")"
   ],
   "outputs": [
    {
     "name": "stdout",
     "output_type": "stream",
     "text": [
      "Recommender System Technologies: 0.5040306603954247\n",
      "Authorship Attribution and User Profiling in Text: 0.45423276858828343\n",
      "Automatic Text Simplification and Readability Assessment: 0.45315609732735473\n",
      "Natural Language Processing: 0.4506736666365663\n",
      "Optimization Methods in Machine Learning: 0.4344742427609637\n"
     ]
    }
   ],
   "execution_count": 24
  }
 ],
 "metadata": {
  "kernelspec": {
   "display_name": "Python 3 (ipykernel)",
   "language": "python",
   "name": "python3"
  },
  "language_info": {
   "codemirror_mode": {
    "name": "ipython",
    "version": 3
   },
   "file_extension": ".py",
   "mimetype": "text/x-python",
   "name": "python",
   "nbconvert_exporter": "python",
   "pygments_lexer": "ipython3",
   "version": "3.12.2"
  }
 },
 "nbformat": 4,
 "nbformat_minor": 5
}
