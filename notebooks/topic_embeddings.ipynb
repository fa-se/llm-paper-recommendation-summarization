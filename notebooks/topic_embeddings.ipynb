{
 "cells": [
  {
   "cell_type": "code",
   "id": "initial_id",
   "metadata": {
    "collapsed": true,
    "jupyter": {
     "outputs_hidden": true
    },
    "ExecuteTime": {
     "end_time": "2024-03-01T13:37:26.588649947Z",
     "start_time": "2024-03-01T13:37:26.588118409Z"
    }
   },
   "source": [
    "from os import environ\n",
    "from pyalex import config, Topics, Works"
   ],
   "outputs": [],
   "execution_count": 1
  },
  {
   "cell_type": "code",
   "id": "785276b568963d81",
   "metadata": {
    "collapsed": false,
    "ExecuteTime": {
     "end_time": "2024-03-01T13:37:32.347049131Z",
     "start_time": "2024-03-01T13:37:32.343584173Z"
    }
   },
   "source": [
    "config.email = environ.get(\"OPENALEX_CONTACT_EMAIL\")\n",
    "config.email"
   ],
   "outputs": [
    {
     "data": {
      "text/plain": "'seuring@campus.tu-berlin.de'"
     },
     "execution_count": 2,
     "metadata": {},
     "output_type": "execute_result"
    }
   ],
   "execution_count": 2
  },
  {
   "cell_type": "code",
   "id": "bc062aca45a45650",
   "metadata": {
    "collapsed": false,
    "ExecuteTime": {
     "end_time": "2024-03-01T12:14:13.174337901Z",
     "start_time": "2024-03-01T12:14:12.515940315Z"
    }
   },
   "source": [
    "# Limit to the field of Computer Science (for now)\n",
    "Topics().filter(field={'id': 17}).get(return_meta=True)[1]"
   ],
   "outputs": [
    {
     "data": {
      "text/plain": "{'count': 302,\n 'db_response_time_ms': 30,\n 'page': 1,\n 'per_page': 25,\n 'groups_count': None}"
     },
     "execution_count": 3,
     "metadata": {},
     "output_type": "execute_result"
    }
   ],
   "execution_count": 3
  },
  {
   "cell_type": "code",
   "id": "21050daae960d6e3",
   "metadata": {
    "collapsed": false,
    "ExecuteTime": {
     "end_time": "2024-03-01T12:14:39.744252739Z",
     "start_time": "2024-03-01T12:14:37.398486153Z"
    }
   },
   "source": [
    "from itertools import chain\n",
    "\n",
    "topics = []\n",
    "for topic in chain(*Topics().paginate(per_page=200)):\n",
    "    topics.append(topic)"
   ],
   "outputs": [],
   "execution_count": 4
  },
  {
   "cell_type": "code",
   "id": "7538a93966052fba",
   "metadata": {
    "collapsed": false,
    "ExecuteTime": {
     "end_time": "2024-02-24T00:29:13.408719Z",
     "start_time": "2024-02-24T00:29:13.406285Z"
    }
   },
   "source": [
    "topics[0]"
   ],
   "outputs": [
    {
     "data": {
      "text/plain": [
       "{'id': 'https://openalex.org/T13602',\n",
       " 'display_name': 'Enhancing Digital Literacy through Education',\n",
       " 'description': 'This cluster of papers focuses on enhancing digital literacy and education, with a particular emphasis on e-learning, school literacy movement, information literacy, and reading interest. The role of teachers in promoting literacy, multiliteracy paradigm, and early reading programs are also explored.',\n",
       " 'keywords': ['Digital Literacy',\n",
       "  'E-Learning',\n",
       "  'School Literacy Movement',\n",
       "  'Information Literacy',\n",
       "  'Reading Interest',\n",
       "  'Teacher Role',\n",
       "  'Multiliteracy Paradigm',\n",
       "  'Media Literacy',\n",
       "  'Early Reading',\n",
       "  'Literacy Program'],\n",
       " 'ids': {'openalex': 'https://openalex.org/T13602',\n",
       "  'wikipedia': 'https://en.wikipedia.org/wiki/Digital_literacy'},\n",
       " 'subfield': {'id': 'https://openalex.org/subfields/1710',\n",
       "  'display_name': 'Information Systems'},\n",
       " 'field': {'id': 'https://openalex.org/fields/17',\n",
       "  'display_name': 'Computer Science'},\n",
       " 'domain': {'id': 'https://openalex.org/domains/3',\n",
       "  'display_name': 'Physical Sciences'},\n",
       " 'works_count': 248836,\n",
       " 'cited_by_count': 106640,\n",
       " 'updated_date': '2024-02-21T22:43:16.673187',\n",
       " 'created_date': '2024-01-23'}"
      ]
     },
     "execution_count": 5,
     "metadata": {},
     "output_type": "execute_result"
    }
   ],
   "execution_count": 5
  },
  {
   "cell_type": "code",
   "id": "87b1305272704d1a",
   "metadata": {
    "collapsed": false,
    "ExecuteTime": {
     "end_time": "2024-02-24T00:29:14.315291Z",
     "start_time": "2024-02-24T00:29:13.409162Z"
    }
   },
   "source": [
    "# create dataframe\n",
    "import pandas as pd\n",
    "df = pd.DataFrame(topics)"
   ],
   "outputs": [],
   "execution_count": 6
  },
  {
   "metadata": {
    "ExecuteTime": {
     "end_time": "2024-02-24T00:29:14.326083Z",
     "start_time": "2024-02-24T00:29:14.315847Z"
    }
   },
   "cell_type": "code",
   "source": [
    "df.head(3)"
   ],
   "id": "4965adb00ef64875",
   "outputs": [
    {
     "data": {
      "text/plain": [
       "                            id  \\\n",
       "0  https://openalex.org/T13602   \n",
       "1  https://openalex.org/T10181   \n",
       "2  https://openalex.org/T10320   \n",
       "\n",
       "                                        display_name  \\\n",
       "0       Enhancing Digital Literacy through Education   \n",
       "1  Statistical Machine Translation and Natural La...   \n",
       "2       Neural Network Fundamentals and Applications   \n",
       "\n",
       "                                         description  \\\n",
       "0  This cluster of papers focuses on enhancing di...   \n",
       "1  This cluster of papers focuses on statistical ...   \n",
       "2  This cluster of papers covers a wide range of ...   \n",
       "\n",
       "                                            keywords  \\\n",
       "0  [Digital Literacy, E-Learning, School Literacy...   \n",
       "1  [Statistical Machine Translation, Neural Machi...   \n",
       "2  [Neural Networks, Self-Organizing Maps, Backpr...   \n",
       "\n",
       "                                                 ids  \\\n",
       "0  {'openalex': 'https://openalex.org/T13602', 'w...   \n",
       "1  {'openalex': 'https://openalex.org/T10181', 'w...   \n",
       "2  {'openalex': 'https://openalex.org/T10320', 'w...   \n",
       "\n",
       "                                            subfield  \\\n",
       "0  {'id': 'https://openalex.org/subfields/1710', ...   \n",
       "1  {'id': 'https://openalex.org/subfields/1702', ...   \n",
       "2  {'id': 'https://openalex.org/subfields/1702', ...   \n",
       "\n",
       "                                               field  \\\n",
       "0  {'id': 'https://openalex.org/fields/17', 'disp...   \n",
       "1  {'id': 'https://openalex.org/fields/17', 'disp...   \n",
       "2  {'id': 'https://openalex.org/fields/17', 'disp...   \n",
       "\n",
       "                                              domain  works_count  \\\n",
       "0  {'id': 'https://openalex.org/domains/3', 'disp...       248836   \n",
       "1  {'id': 'https://openalex.org/domains/3', 'disp...       208791   \n",
       "2  {'id': 'https://openalex.org/domains/3', 'disp...       187127   \n",
       "\n",
       "   cited_by_count                updated_date created_date  \n",
       "0          106640  2024-02-21T22:43:16.673187   2024-01-23  \n",
       "1         1820996  2024-02-21T22:43:51.033212   2024-01-23  \n",
       "2         2285623  2024-02-21T22:42:48.999851   2024-01-23  "
      ],
      "text/html": [
       "<div>\n",
       "<style scoped>\n",
       "    .dataframe tbody tr th:only-of-type {\n",
       "        vertical-align: middle;\n",
       "    }\n",
       "\n",
       "    .dataframe tbody tr th {\n",
       "        vertical-align: top;\n",
       "    }\n",
       "\n",
       "    .dataframe thead th {\n",
       "        text-align: right;\n",
       "    }\n",
       "</style>\n",
       "<table border=\"1\" class=\"dataframe\">\n",
       "  <thead>\n",
       "    <tr style=\"text-align: right;\">\n",
       "      <th></th>\n",
       "      <th>id</th>\n",
       "      <th>display_name</th>\n",
       "      <th>description</th>\n",
       "      <th>keywords</th>\n",
       "      <th>ids</th>\n",
       "      <th>subfield</th>\n",
       "      <th>field</th>\n",
       "      <th>domain</th>\n",
       "      <th>works_count</th>\n",
       "      <th>cited_by_count</th>\n",
       "      <th>updated_date</th>\n",
       "      <th>created_date</th>\n",
       "    </tr>\n",
       "  </thead>\n",
       "  <tbody>\n",
       "    <tr>\n",
       "      <th>0</th>\n",
       "      <td>https://openalex.org/T13602</td>\n",
       "      <td>Enhancing Digital Literacy through Education</td>\n",
       "      <td>This cluster of papers focuses on enhancing di...</td>\n",
       "      <td>[Digital Literacy, E-Learning, School Literacy...</td>\n",
       "      <td>{'openalex': 'https://openalex.org/T13602', 'w...</td>\n",
       "      <td>{'id': 'https://openalex.org/subfields/1710', ...</td>\n",
       "      <td>{'id': 'https://openalex.org/fields/17', 'disp...</td>\n",
       "      <td>{'id': 'https://openalex.org/domains/3', 'disp...</td>\n",
       "      <td>248836</td>\n",
       "      <td>106640</td>\n",
       "      <td>2024-02-21T22:43:16.673187</td>\n",
       "      <td>2024-01-23</td>\n",
       "    </tr>\n",
       "    <tr>\n",
       "      <th>1</th>\n",
       "      <td>https://openalex.org/T10181</td>\n",
       "      <td>Statistical Machine Translation and Natural La...</td>\n",
       "      <td>This cluster of papers focuses on statistical ...</td>\n",
       "      <td>[Statistical Machine Translation, Neural Machi...</td>\n",
       "      <td>{'openalex': 'https://openalex.org/T10181', 'w...</td>\n",
       "      <td>{'id': 'https://openalex.org/subfields/1702', ...</td>\n",
       "      <td>{'id': 'https://openalex.org/fields/17', 'disp...</td>\n",
       "      <td>{'id': 'https://openalex.org/domains/3', 'disp...</td>\n",
       "      <td>208791</td>\n",
       "      <td>1820996</td>\n",
       "      <td>2024-02-21T22:43:51.033212</td>\n",
       "      <td>2024-01-23</td>\n",
       "    </tr>\n",
       "    <tr>\n",
       "      <th>2</th>\n",
       "      <td>https://openalex.org/T10320</td>\n",
       "      <td>Neural Network Fundamentals and Applications</td>\n",
       "      <td>This cluster of papers covers a wide range of ...</td>\n",
       "      <td>[Neural Networks, Self-Organizing Maps, Backpr...</td>\n",
       "      <td>{'openalex': 'https://openalex.org/T10320', 'w...</td>\n",
       "      <td>{'id': 'https://openalex.org/subfields/1702', ...</td>\n",
       "      <td>{'id': 'https://openalex.org/fields/17', 'disp...</td>\n",
       "      <td>{'id': 'https://openalex.org/domains/3', 'disp...</td>\n",
       "      <td>187127</td>\n",
       "      <td>2285623</td>\n",
       "      <td>2024-02-21T22:42:48.999851</td>\n",
       "      <td>2024-01-23</td>\n",
       "    </tr>\n",
       "  </tbody>\n",
       "</table>\n",
       "</div>"
      ]
     },
     "execution_count": 7,
     "metadata": {},
     "output_type": "execute_result"
    }
   ],
   "execution_count": 7
  },
  {
   "cell_type": "code",
   "id": "7a39243d58424583",
   "metadata": {
    "collapsed": false,
    "ExecuteTime": {
     "end_time": "2024-02-24T00:29:14.347723Z",
     "start_time": "2024-02-24T00:29:14.326469Z"
    }
   },
   "source": [
    "# save to csv\n",
    "df.to_csv(\"topics_cs.csv\")"
   ],
   "outputs": [],
   "execution_count": 8
  },
  {
   "metadata": {
    "ExecuteTime": {
     "end_time": "2024-02-24T00:29:14.357283Z",
     "start_time": "2024-02-24T00:29:14.348331Z"
    }
   },
   "cell_type": "code",
   "source": [
    "# Create string representation for embeddings\n",
    "df[\"embedding_input\"] = (\"Topic: \" + df[\"display_name\"].str.strip() + \"; Description: \" + df[\"description\"].str.strip() + \"; Keywords: \" + df[\"keywords\"].apply(lambda x: ', '.join(x)).str.strip())\n",
    "df.head(3)[\"embedding_input\"]"
   ],
   "id": "20386d02c9b19144",
   "outputs": [
    {
     "data": {
      "text/plain": [
       "0    Topic: Enhancing Digital Literacy through Educ...\n",
       "1    Topic: Statistical Machine Translation and Nat...\n",
       "2    Topic: Neural Network Fundamentals and Applica...\n",
       "Name: embedding_input, dtype: object"
      ]
     },
     "execution_count": 9,
     "metadata": {},
     "output_type": "execute_result"
    }
   ],
   "execution_count": 9
  },
  {
   "metadata": {
    "ExecuteTime": {
     "end_time": "2024-02-24T00:53:42.608381Z",
     "start_time": "2024-02-24T00:53:42.587260Z"
    }
   },
   "cell_type": "code",
   "source": [
    "# prepare for embedding\n",
    "df = df[['id', 'embedding_input']]\n",
    "df = df.dropna()\n",
    "len(df)"
   ],
   "id": "4bd3ca8083890fb1",
   "outputs": [
    {
     "data": {
      "text/plain": [
       "302"
      ]
     },
     "execution_count": 26,
     "metadata": {},
     "output_type": "execute_result"
    }
   ],
   "execution_count": 26
  },
  {
   "metadata": {
    "ExecuteTime": {
     "end_time": "2024-02-24T00:29:37.869034Z",
     "start_time": "2024-02-24T00:29:37.849798Z"
    }
   },
   "cell_type": "code",
   "source": [
    "import tiktoken\n",
    "encoding = tiktoken.get_encoding('cl100k_base')\n",
    "price_per_token = 0.00002 / 1000 # text-embedding-3-small\n",
    "df[\"n_tokens\"] = df[\"embedding_input\"].apply(lambda x: len(encoding.encode(x)))\n",
    "f\"Total number of tokens: {df['n_tokens'].sum()} | Price per token: {price_per_token} | Total price: {df['n_tokens'].sum() * price_per_token}\""
   ],
   "id": "4dd8e65f379330bc",
   "outputs": [
    {
     "data": {
      "text/plain": [
       "'Total number of tokens: 33879 | Price per token: 2e-08 | Total price: 0.00067758'"
      ]
     },
     "execution_count": 12,
     "metadata": {},
     "output_type": "execute_result"
    }
   ],
   "execution_count": 12
  },
  {
   "metadata": {
    "ExecuteTime": {
     "end_time": "2024-02-24T00:31:29.421477Z",
     "start_time": "2024-02-24T00:29:43.932686Z"
    }
   },
   "cell_type": "code",
   "source": [
    "from openai import OpenAI\n",
    "client = OpenAI() # requires OPENAI_API_KEY environment variable to be set\n",
    "\n",
    "EMBEDDING_MODEL=\"text-embedding-3-small\"\n",
    "def get_embedding(text, model=EMBEDDING_MODEL):\n",
    "   text = text.replace(\"\\n\", \" \")\n",
    "   return client.embeddings.create(input = [text], model=model).data[0].embedding\n",
    "\n",
    "\n",
    "df[\"embedding\"] = df[\"embedding_input\"].apply(lambda x: get_embedding(x))"
   ],
   "id": "14b8d43c38d13600",
   "outputs": [],
   "execution_count": 13
  },
  {
   "metadata": {
    "ExecuteTime": {
     "end_time": "2024-02-24T00:54:45.163721Z",
     "start_time": "2024-02-24T00:54:45.103194Z"
    }
   },
   "cell_type": "code",
   "source": [
    "df.to_csv(\"topics_cs_embeddings.csv\", index=False)"
   ],
   "id": "48f4a9c58e358825",
   "outputs": [
    {
     "data": {
      "text/plain": [
       "                              id  \\\n",
       "0    https://openalex.org/T13602   \n",
       "1    https://openalex.org/T10181   \n",
       "2    https://openalex.org/T10320   \n",
       "3    https://openalex.org/T13734   \n",
       "4    https://openalex.org/T10715   \n",
       "..                           ...   \n",
       "297  https://openalex.org/T14174   \n",
       "298  https://openalex.org/T14455   \n",
       "299  https://openalex.org/T13345   \n",
       "300  https://openalex.org/T13932   \n",
       "301  https://openalex.org/T13676   \n",
       "\n",
       "                                       embedding_input  n_tokens  \\\n",
       "0    Topic: Enhancing Digital Literacy through Educ...       107   \n",
       "1    Topic: Statistical Machine Translation and Nat...       116   \n",
       "2    Topic: Neural Network Fundamentals and Applica...       101   \n",
       "3    Topic: Artificial Intelligence and Expert Syst...       118   \n",
       "4    Topic: Distributed Grid Computing Systems; Des...        91   \n",
       "..                                                 ...       ...   \n",
       "297  Topic: Smart Systems and IoT Applications; Des...        85   \n",
       "298  Topic: Data Communications and Networking Tech...       134   \n",
       "299  Topic: Efficient Cooperative Image Transmissio...       100   \n",
       "300  Topic: Understanding the Digital Economy and K...       114   \n",
       "301  Topic: Integration of Big Data in Educational ...       110   \n",
       "\n",
       "                                             embedding  \n",
       "0    [0.02839984931051731, 0.015877598896622658, 0....  \n",
       "1    [0.0010130326263606548, 0.005919080693274736, ...  \n",
       "2    [-0.014948883093893528, -0.010005757212638855,...  \n",
       "3    [-0.010487883351743221, 0.006784500554203987, ...  \n",
       "4    [0.0013633642811328173, -0.005792532116174698,...  \n",
       "..                                                 ...  \n",
       "297  [-0.007974784821271896, -0.005506804678589106,...  \n",
       "298  [0.019931675866246223, -0.0016256003873422742,...  \n",
       "299  [0.05508171766996384, -0.022186990827322006, -...  \n",
       "300  [0.012202342972159386, -0.001700123306363821, ...  \n",
       "301  [0.021911200135946274, -0.02300732582807541, 0...  \n",
       "\n",
       "[302 rows x 4 columns]"
      ],
      "text/html": [
       "<div>\n",
       "<style scoped>\n",
       "    .dataframe tbody tr th:only-of-type {\n",
       "        vertical-align: middle;\n",
       "    }\n",
       "\n",
       "    .dataframe tbody tr th {\n",
       "        vertical-align: top;\n",
       "    }\n",
       "\n",
       "    .dataframe thead th {\n",
       "        text-align: right;\n",
       "    }\n",
       "</style>\n",
       "<table border=\"1\" class=\"dataframe\">\n",
       "  <thead>\n",
       "    <tr style=\"text-align: right;\">\n",
       "      <th></th>\n",
       "      <th>id</th>\n",
       "      <th>embedding_input</th>\n",
       "      <th>n_tokens</th>\n",
       "      <th>embedding</th>\n",
       "    </tr>\n",
       "  </thead>\n",
       "  <tbody>\n",
       "    <tr>\n",
       "      <th>0</th>\n",
       "      <td>https://openalex.org/T13602</td>\n",
       "      <td>Topic: Enhancing Digital Literacy through Educ...</td>\n",
       "      <td>107</td>\n",
       "      <td>[0.02839984931051731, 0.015877598896622658, 0....</td>\n",
       "    </tr>\n",
       "    <tr>\n",
       "      <th>1</th>\n",
       "      <td>https://openalex.org/T10181</td>\n",
       "      <td>Topic: Statistical Machine Translation and Nat...</td>\n",
       "      <td>116</td>\n",
       "      <td>[0.0010130326263606548, 0.005919080693274736, ...</td>\n",
       "    </tr>\n",
       "    <tr>\n",
       "      <th>2</th>\n",
       "      <td>https://openalex.org/T10320</td>\n",
       "      <td>Topic: Neural Network Fundamentals and Applica...</td>\n",
       "      <td>101</td>\n",
       "      <td>[-0.014948883093893528, -0.010005757212638855,...</td>\n",
       "    </tr>\n",
       "    <tr>\n",
       "      <th>3</th>\n",
       "      <td>https://openalex.org/T13734</td>\n",
       "      <td>Topic: Artificial Intelligence and Expert Syst...</td>\n",
       "      <td>118</td>\n",
       "      <td>[-0.010487883351743221, 0.006784500554203987, ...</td>\n",
       "    </tr>\n",
       "    <tr>\n",
       "      <th>4</th>\n",
       "      <td>https://openalex.org/T10715</td>\n",
       "      <td>Topic: Distributed Grid Computing Systems; Des...</td>\n",
       "      <td>91</td>\n",
       "      <td>[0.0013633642811328173, -0.005792532116174698,...</td>\n",
       "    </tr>\n",
       "    <tr>\n",
       "      <th>...</th>\n",
       "      <td>...</td>\n",
       "      <td>...</td>\n",
       "      <td>...</td>\n",
       "      <td>...</td>\n",
       "    </tr>\n",
       "    <tr>\n",
       "      <th>297</th>\n",
       "      <td>https://openalex.org/T14174</td>\n",
       "      <td>Topic: Smart Systems and IoT Applications; Des...</td>\n",
       "      <td>85</td>\n",
       "      <td>[-0.007974784821271896, -0.005506804678589106,...</td>\n",
       "    </tr>\n",
       "    <tr>\n",
       "      <th>298</th>\n",
       "      <td>https://openalex.org/T14455</td>\n",
       "      <td>Topic: Data Communications and Networking Tech...</td>\n",
       "      <td>134</td>\n",
       "      <td>[0.019931675866246223, -0.0016256003873422742,...</td>\n",
       "    </tr>\n",
       "    <tr>\n",
       "      <th>299</th>\n",
       "      <td>https://openalex.org/T13345</td>\n",
       "      <td>Topic: Efficient Cooperative Image Transmissio...</td>\n",
       "      <td>100</td>\n",
       "      <td>[0.05508171766996384, -0.022186990827322006, -...</td>\n",
       "    </tr>\n",
       "    <tr>\n",
       "      <th>300</th>\n",
       "      <td>https://openalex.org/T13932</td>\n",
       "      <td>Topic: Understanding the Digital Economy and K...</td>\n",
       "      <td>114</td>\n",
       "      <td>[0.012202342972159386, -0.001700123306363821, ...</td>\n",
       "    </tr>\n",
       "    <tr>\n",
       "      <th>301</th>\n",
       "      <td>https://openalex.org/T13676</td>\n",
       "      <td>Topic: Integration of Big Data in Educational ...</td>\n",
       "      <td>110</td>\n",
       "      <td>[0.021911200135946274, -0.02300732582807541, 0...</td>\n",
       "    </tr>\n",
       "  </tbody>\n",
       "</table>\n",
       "<p>302 rows × 4 columns</p>\n",
       "</div>"
      ]
     },
     "execution_count": 28,
     "metadata": {},
     "output_type": "execute_result"
    }
   ],
   "execution_count": 28
  },
  {
   "metadata": {
    "ExecuteTime": {
     "end_time": "2024-02-24T01:01:38.196509Z",
     "start_time": "2024-02-24T01:01:37.168588Z"
    }
   },
   "cell_type": "code",
   "source": [
    "import ast\n",
    "import numpy as np\n",
    "df['embedding'] = df['embedding'].apply(ast.literal_eval).apply(np.array)"
   ],
   "id": "55a54ccf344ea523",
   "outputs": [],
   "execution_count": 34
  },
  {
   "metadata": {
    "ExecuteTime": {
     "end_time": "2024-02-24T01:12:29.985944Z",
     "start_time": "2024-02-24T01:12:29.582601Z"
    }
   },
   "cell_type": "code",
   "source": [
    "query = \"Leveraging Large Language Models for Personalized Suggestion and Summarization of Scientific Publications\"\n",
    "query_embedding = get_embedding(query)"
   ],
   "id": "7c552a213adca032",
   "outputs": [],
   "execution_count": 49
  },
  {
   "metadata": {
    "ExecuteTime": {
     "end_time": "2024-02-24T01:12:30.035623Z",
     "start_time": "2024-02-24T01:12:29.986670Z"
    }
   },
   "cell_type": "code",
   "source": [
    "import numpy as np\n",
    "from sklearn.metrics.pairwise import cosine_similarity\n",
    "\n",
    "# Reshape query_embedding to 2D if it's 1D\n",
    "query_embedding_2d = np.array(query_embedding).reshape(1, -1)\n",
    "\n",
    "# Calculate cosine similarity with every topic embedding\n",
    "# Assuming each row in df['embeddings'] is an iterable (list, array) of the embedding\n",
    "similarities = np.array([cosine_similarity(query_embedding_2d, np.array(topic_embedding).reshape(1, -1))[0][0] for topic_embedding in df['embedding']])"
   ],
   "id": "f28b4f8e5d38d8e1",
   "outputs": [],
   "execution_count": 50
  },
  {
   "metadata": {
    "ExecuteTime": {
     "end_time": "2024-02-24T01:12:33.378943Z",
     "start_time": "2024-02-24T01:12:33.368203Z"
    }
   },
   "cell_type": "code",
   "source": [
    "df['similarity'] = similarities\n",
    "sorted_df = df.sort_values(by='similarity', ascending=False)\n",
    "top_topics = sorted_df.head(10)\n",
    "top_topics"
   ],
   "id": "34b586f4282a69c4",
   "outputs": [
    {
     "data": {
      "text/plain": [
       "                              id  \\\n",
       "149  https://openalex.org/T10462   \n",
       "179  https://openalex.org/T12072   \n",
       "172  https://openalex.org/T11598   \n",
       "245  https://openalex.org/T12676   \n",
       "251  https://openalex.org/T11612   \n",
       "66   https://openalex.org/T11122   \n",
       "225  https://openalex.org/T14351   \n",
       "266  https://openalex.org/T12794   \n",
       "134  https://openalex.org/T11276   \n",
       "105  https://openalex.org/T13018   \n",
       "\n",
       "                                       embedding_input  n_tokens  \\\n",
       "149  Topic: Reinforcement Learning Algorithms; Desc...       101   \n",
       "179  Topic: Active Learning in Machine Learning Res...       105   \n",
       "172  Topic: Machine Learning for Internet Traffic C...        94   \n",
       "245  Topic: Theory and Applications of Extreme Lear...       109   \n",
       "251  Topic: Optimization Methods in Machine Learnin...       122   \n",
       "66   Topic: Educational Data Mining and Learning An...       129   \n",
       "225  Topic: Inductive Modeling in Scientific Resear...       132   \n",
       "266  Topic: Adaptive Dynamic Programming for Optima...       129   \n",
       "134  Topic: Machine Learning Methods for Solar Radi...       108   \n",
       "105  Topic: Machine Learning for Earthquake Early W...       120   \n",
       "\n",
       "                                             embedding  similarity  \n",
       "149  [0.0038641353603452444, -0.04515691474080086, ...    0.382175  \n",
       "179  [-0.03133949637413025, 0.019223827868700027, 0...    0.381579  \n",
       "172  [-0.002179244067519903, -0.014644972048699856,...    0.376717  \n",
       "245  [-0.019221412017941475, -0.018300073221325874,...    0.367894  \n",
       "251  [-0.006085216999053955, -0.025157243013381958,...    0.366122  \n",
       "66   [0.012617486529052258, 0.00832311436533928, 0....    0.356867  \n",
       "225  [-0.007745642215013504, 0.018768977373838425, ...    0.352353  \n",
       "266  [-0.019769232720136642, -0.029867352917790413,...    0.352197  \n",
       "134  [-0.03454571217298508, -0.0027602065820246935,...    0.348439  \n",
       "105  [-0.01907801628112793, -0.013615892268717289, ...    0.348083  "
      ],
      "text/html": [
       "<div>\n",
       "<style scoped>\n",
       "    .dataframe tbody tr th:only-of-type {\n",
       "        vertical-align: middle;\n",
       "    }\n",
       "\n",
       "    .dataframe tbody tr th {\n",
       "        vertical-align: top;\n",
       "    }\n",
       "\n",
       "    .dataframe thead th {\n",
       "        text-align: right;\n",
       "    }\n",
       "</style>\n",
       "<table border=\"1\" class=\"dataframe\">\n",
       "  <thead>\n",
       "    <tr style=\"text-align: right;\">\n",
       "      <th></th>\n",
       "      <th>id</th>\n",
       "      <th>embedding_input</th>\n",
       "      <th>n_tokens</th>\n",
       "      <th>embedding</th>\n",
       "      <th>similarity</th>\n",
       "    </tr>\n",
       "  </thead>\n",
       "  <tbody>\n",
       "    <tr>\n",
       "      <th>149</th>\n",
       "      <td>https://openalex.org/T10462</td>\n",
       "      <td>Topic: Reinforcement Learning Algorithms; Desc...</td>\n",
       "      <td>101</td>\n",
       "      <td>[0.0038641353603452444, -0.04515691474080086, ...</td>\n",
       "      <td>0.382175</td>\n",
       "    </tr>\n",
       "    <tr>\n",
       "      <th>179</th>\n",
       "      <td>https://openalex.org/T12072</td>\n",
       "      <td>Topic: Active Learning in Machine Learning Res...</td>\n",
       "      <td>105</td>\n",
       "      <td>[-0.03133949637413025, 0.019223827868700027, 0...</td>\n",
       "      <td>0.381579</td>\n",
       "    </tr>\n",
       "    <tr>\n",
       "      <th>172</th>\n",
       "      <td>https://openalex.org/T11598</td>\n",
       "      <td>Topic: Machine Learning for Internet Traffic C...</td>\n",
       "      <td>94</td>\n",
       "      <td>[-0.002179244067519903, -0.014644972048699856,...</td>\n",
       "      <td>0.376717</td>\n",
       "    </tr>\n",
       "    <tr>\n",
       "      <th>245</th>\n",
       "      <td>https://openalex.org/T12676</td>\n",
       "      <td>Topic: Theory and Applications of Extreme Lear...</td>\n",
       "      <td>109</td>\n",
       "      <td>[-0.019221412017941475, -0.018300073221325874,...</td>\n",
       "      <td>0.367894</td>\n",
       "    </tr>\n",
       "    <tr>\n",
       "      <th>251</th>\n",
       "      <td>https://openalex.org/T11612</td>\n",
       "      <td>Topic: Optimization Methods in Machine Learnin...</td>\n",
       "      <td>122</td>\n",
       "      <td>[-0.006085216999053955, -0.025157243013381958,...</td>\n",
       "      <td>0.366122</td>\n",
       "    </tr>\n",
       "    <tr>\n",
       "      <th>66</th>\n",
       "      <td>https://openalex.org/T11122</td>\n",
       "      <td>Topic: Educational Data Mining and Learning An...</td>\n",
       "      <td>129</td>\n",
       "      <td>[0.012617486529052258, 0.00832311436533928, 0....</td>\n",
       "      <td>0.356867</td>\n",
       "    </tr>\n",
       "    <tr>\n",
       "      <th>225</th>\n",
       "      <td>https://openalex.org/T14351</td>\n",
       "      <td>Topic: Inductive Modeling in Scientific Resear...</td>\n",
       "      <td>132</td>\n",
       "      <td>[-0.007745642215013504, 0.018768977373838425, ...</td>\n",
       "      <td>0.352353</td>\n",
       "    </tr>\n",
       "    <tr>\n",
       "      <th>266</th>\n",
       "      <td>https://openalex.org/T12794</td>\n",
       "      <td>Topic: Adaptive Dynamic Programming for Optima...</td>\n",
       "      <td>129</td>\n",
       "      <td>[-0.019769232720136642, -0.029867352917790413,...</td>\n",
       "      <td>0.352197</td>\n",
       "    </tr>\n",
       "    <tr>\n",
       "      <th>134</th>\n",
       "      <td>https://openalex.org/T11276</td>\n",
       "      <td>Topic: Machine Learning Methods for Solar Radi...</td>\n",
       "      <td>108</td>\n",
       "      <td>[-0.03454571217298508, -0.0027602065820246935,...</td>\n",
       "      <td>0.348439</td>\n",
       "    </tr>\n",
       "    <tr>\n",
       "      <th>105</th>\n",
       "      <td>https://openalex.org/T13018</td>\n",
       "      <td>Topic: Machine Learning for Earthquake Early W...</td>\n",
       "      <td>120</td>\n",
       "      <td>[-0.01907801628112793, -0.013615892268717289, ...</td>\n",
       "      <td>0.348083</td>\n",
       "    </tr>\n",
       "  </tbody>\n",
       "</table>\n",
       "</div>"
      ]
     },
     "execution_count": 51,
     "metadata": {},
     "output_type": "execute_result"
    }
   ],
   "execution_count": 51
  }
 ],
 "metadata": {
  "kernelspec": {
   "display_name": "Python 3 (ipykernel)",
   "language": "python",
   "name": "python3"
  },
  "language_info": {
   "codemirror_mode": {
    "name": "ipython",
    "version": 3
   },
   "file_extension": ".py",
   "mimetype": "text/x-python",
   "name": "python",
   "nbconvert_exporter": "python",
   "pygments_lexer": "ipython3",
   "version": "3.12.1"
  }
 },
 "nbformat": 4,
 "nbformat_minor": 5
}
